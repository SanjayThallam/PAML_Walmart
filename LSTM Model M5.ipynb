{
 "cells": [
  {
   "cell_type": "markdown",
   "id": "7e3cd3c9",
   "metadata": {
    "papermill": {
     "duration": 0.007852,
     "end_time": "2023-10-06T15:52:42.215823",
     "exception": false,
     "start_time": "2023-10-06T15:52:42.207971",
     "status": "completed"
    },
    "tags": []
   },
   "source": [
    "### 1. Import packages <a class=\"anchor\" id=\"1\"></a>"
   ]
  },
  {
   "cell_type": "code",
   "execution_count": 15,
   "id": "b6975219",
   "metadata": {
    "execution": {
     "iopub.execute_input": "2023-10-06T15:52:42.232018Z",
     "iopub.status.busy": "2023-10-06T15:52:42.231251Z",
     "iopub.status.idle": "2023-10-06T15:52:47.621357Z",
     "shell.execute_reply": "2023-10-06T15:52:47.620361Z"
    },
    "papermill": {
     "duration": 5.400445,
     "end_time": "2023-10-06T15:52:47.623461",
     "exception": false,
     "start_time": "2023-10-06T15:52:42.223016",
     "status": "completed"
    },
    "tags": []
   },
   "outputs": [],
   "source": [
    "import matplotlib.pyplot as plt\n",
    "import warnings\n",
    "warnings.filterwarnings('ignore')\n",
    "from datetime import datetime\n",
    "import random \n",
    "import os\n",
    "import torch\n",
    "import torch.nn as nn\n",
    "from sklearn.preprocessing import MinMaxScaler\n",
    "import time \n",
    "from torch.utils.data import Dataset, DataLoader\n",
    "from sklearn.metrics import mean_squared_error\n",
    "import multiprocessing\n",
    "import torch.nn.functional as F\n",
    "import numpy as np \n",
    "import pandas as pd \n",
    "\n",
    "#%matplotlib inline"
   ]
  },
  {
   "cell_type": "code",
   "execution_count": 16,
   "id": "67b3f991",
   "metadata": {
    "execution": {
     "iopub.execute_input": "2023-10-06T15:52:47.639793Z",
     "iopub.status.busy": "2023-10-06T15:52:47.638976Z",
     "iopub.status.idle": "2023-10-06T15:52:47.740504Z",
     "shell.execute_reply": "2023-10-06T15:52:47.739757Z"
    },
    "papermill": {
     "duration": 0.111188,
     "end_time": "2023-10-06T15:52:47.742133",
     "exception": false,
     "start_time": "2023-10-06T15:52:47.630945",
     "status": "completed"
    },
    "tags": []
   },
   "outputs": [],
   "source": [
    "device = 'cuda' if torch.cuda.is_available() else 'cpu'"
   ]
  },
  {
   "cell_type": "code",
   "execution_count": 17,
   "id": "e7295d70",
   "metadata": {},
   "outputs": [
    {
     "data": {
      "text/plain": [
       "'cpu'"
      ]
     },
     "execution_count": 17,
     "metadata": {},
     "output_type": "execute_result"
    }
   ],
   "source": [
    "device"
   ]
  },
  {
   "cell_type": "markdown",
   "id": "3141ab68",
   "metadata": {
    "papermill": {
     "duration": 0.007018,
     "end_time": "2023-10-06T15:52:47.756835",
     "exception": false,
     "start_time": "2023-10-06T15:52:47.749817",
     "status": "completed"
    },
    "tags": []
   },
   "source": [
    "#### 1.1 Seed everything <a class=\"anchor\" id=\"11\"></a>"
   ]
  },
  {
   "cell_type": "code",
   "execution_count": 18,
   "id": "131b5ca9",
   "metadata": {
    "execution": {
     "iopub.execute_input": "2023-10-06T15:52:47.772919Z",
     "iopub.status.busy": "2023-10-06T15:52:47.771897Z",
     "iopub.status.idle": "2023-10-06T15:52:47.787920Z",
     "shell.execute_reply": "2023-10-06T15:52:47.787091Z"
    },
    "papermill": {
     "duration": 0.025708,
     "end_time": "2023-10-06T15:52:47.789617",
     "exception": false,
     "start_time": "2023-10-06T15:52:47.763909",
     "status": "completed"
    },
    "tags": []
   },
   "outputs": [],
   "source": [
    "SEED = 1\n",
    "os.environ[\"PL_GLOBAL_SEED\"] = str(SEED)\n",
    "random.seed(SEED)\n",
    "np.random.seed(SEED)\n",
    "torch.manual_seed(SEED)\n",
    "torch.cuda.manual_seed_all(SEED)"
   ]
  },
  {
   "cell_type": "markdown",
   "id": "2a8b2df5",
   "metadata": {
    "papermill": {
     "duration": 0.006875,
     "end_time": "2023-10-06T15:52:47.803875",
     "exception": false,
     "start_time": "2023-10-06T15:52:47.797000",
     "status": "completed"
    },
    "tags": []
   },
   "source": [
    "#### 1.2 Set cuDNN and PyTorch to be deterministic <a class=\"anchor\" id=\"12\"></a>"
   ]
  },
  {
   "cell_type": "code",
   "execution_count": 19,
   "id": "0c0efec7",
   "metadata": {
    "execution": {
     "iopub.execute_input": "2023-10-06T15:52:47.819643Z",
     "iopub.status.busy": "2023-10-06T15:52:47.819114Z",
     "iopub.status.idle": "2023-10-06T15:52:47.823219Z",
     "shell.execute_reply": "2023-10-06T15:52:47.822207Z"
    },
    "papermill": {
     "duration": 0.013942,
     "end_time": "2023-10-06T15:52:47.824832",
     "exception": false,
     "start_time": "2023-10-06T15:52:47.810890",
     "status": "completed"
    },
    "tags": []
   },
   "outputs": [],
   "source": [
    "if torch.cuda.is_available():\n",
    "    torch.backends.cudnn.benchmark = False\n",
    "    torch.backends.cudnn.deterministic = True"
   ]
  },
  {
   "cell_type": "markdown",
   "id": "8425ad7c",
   "metadata": {
    "papermill": {
     "duration": 0.007358,
     "end_time": "2023-10-06T15:52:47.839163",
     "exception": false,
     "start_time": "2023-10-06T15:52:47.831805",
     "status": "completed"
    },
    "tags": []
   },
   "source": [
    "#### 1.3 Pick an item to model <a class=\"anchor\" id=\"13\"></a>"
   ]
  },
  {
   "cell_type": "markdown",
   "id": "cae56137",
   "metadata": {
    "papermill": {
     "duration": 0.00741,
     "end_time": "2023-10-06T15:52:53.297003",
     "exception": false,
     "start_time": "2023-10-06T15:52:53.289593",
     "status": "completed"
    },
    "tags": []
   },
   "source": [
    "### 2. LSTM model for univariate time series <a class=\"anchor\" id=\"2\"></a>"
   ]
  },
  {
   "cell_type": "markdown",
   "id": "b0aa8526",
   "metadata": {
    "papermill": {
     "duration": 0.007671,
     "end_time": "2023-10-06T15:52:53.312346",
     "exception": false,
     "start_time": "2023-10-06T15:52:53.304675",
     "status": "completed"
    },
    "tags": []
   },
   "source": [
    "#### 2.1 Define dataset <a class=\"anchor\" id=\"21\"></a>"
   ]
  },
  {
   "cell_type": "code",
   "execution_count": 20,
   "id": "ed565b82",
   "metadata": {},
   "outputs": [
    {
     "name": "stdout",
     "output_type": "stream",
     "text": [
      "Calendar has 1969 rows and 14 columns\n",
      "Sales train evaluation has 30490 rows and 1947 columns\n"
     ]
    }
   ],
   "source": [
    "import pandas as pd\n",
    "\n",
    "# Set the directory path to where your CSV files are located\n",
    "INPUT_DIR_PATH = '' # or the appropriate path\n",
    "\n",
    "def read_data():\n",
    "    calendar_df = pd.read_csv(INPUT_DIR_PATH + 'calendar.csv')\n",
    "    print('Calendar has {} rows and {} columns'.format(calendar_df.shape[0], calendar_df.shape[1]))\n",
    "\n",
    "    sales_train_evaluation_df = pd.read_csv(INPUT_DIR_PATH + 'sales_train_evaluation.csv')\n",
    "    print('Sales train evaluation has {} rows and {} columns'.format(sales_train_evaluation_df.shape[0], sales_train_evaluation_df.shape[1]))\n",
    "\n",
    "    return calendar_df, sales_train_evaluation_df\n",
    "\n",
    "# Read the data\n",
    "calendar_df, sales_train_evaluation_df = read_data()\n"
   ]
  },
  {
   "cell_type": "code",
   "execution_count": 21,
   "id": "8074d0d9",
   "metadata": {},
   "outputs": [
    {
     "name": "stdout",
     "output_type": "stream",
     "text": [
      "Calendar has 1969 rows and 14 columns\n",
      "Sales train evaluation has 30490 rows and 1947 columns\n",
      "(1941, 1)\n"
     ]
    }
   ],
   "source": [
    "import pandas as pd\n",
    "\n",
    "# Set the directory path to where your CSV files are located\n",
    "INPUT_DIR_PATH = '' # or the appropriate path\n",
    "\n",
    "def read_data():\n",
    "    calendar_df = pd.read_csv(INPUT_DIR_PATH + 'calendar.csv')\n",
    "    print('Calendar has {} rows and {} columns'.format(calendar_df.shape[0], calendar_df.shape[1]))\n",
    "\n",
    "    sales_train_evaluation_df = pd.read_csv(INPUT_DIR_PATH + 'sales_train_evaluation.csv')\n",
    "    print('Sales train evaluation has {} rows and {} columns'.format(sales_train_evaluation_df.shape[0], sales_train_evaluation_df.shape[1]))\n",
    "\n",
    "    return calendar_df, sales_train_evaluation_df\n",
    "\n",
    "# Read the data\n",
    "calendar_df, sales_train_evaluation_df = read_data()\n",
    "\n",
    "# Define the item to model\n",
    "item_to_model = 'HOBBIES_1_004_CA_1_evaluation'\n",
    "\n",
    "# Filter the sales data for the item to model\n",
    "sales_train_evaluation_df = sales_train_evaluation_df[sales_train_evaluation_df.id == item_to_model]\n",
    "\n",
    "# Find all columns that have a day notation 'd_'\n",
    "d_cols = [col for col in sales_train_evaluation_df.columns if col.startswith('d_')]\n",
    "\n",
    "# Transpose the dataframe and merge with the calendar data\n",
    "ste_t = sales_train_evaluation_df[['id'] + d_cols].set_index('id').T\n",
    "ste_td = ste_t.merge(calendar_df[['date','d']].set_index('d'), left_index=True, right_index=True, validate='1:1').set_index('date')\n",
    "\n",
    "# Print the shape of the resulting dataframe\n",
    "print(ste_td.shape)\n"
   ]
  },
  {
   "cell_type": "code",
   "execution_count": 22,
   "id": "3954dfa9",
   "metadata": {
    "execution": {
     "iopub.execute_input": "2023-10-06T15:52:53.329634Z",
     "iopub.status.busy": "2023-10-06T15:52:53.329301Z",
     "iopub.status.idle": "2023-10-06T15:52:53.337252Z",
     "shell.execute_reply": "2023-10-06T15:52:53.336261Z"
    },
    "papermill": {
     "duration": 0.01872,
     "end_time": "2023-10-06T15:52:53.339067",
     "exception": false,
     "start_time": "2023-10-06T15:52:53.320347",
     "status": "completed"
    },
    "tags": []
   },
   "outputs": [],
   "source": [
    "# normalize the series to be in the range of -1 to 1\n",
    "scaler = MinMaxScaler(feature_range=(-1, 1))\n",
    "ste_normalized = scaler.fit_transform(ste_td)"
   ]
  },
  {
   "cell_type": "code",
   "execution_count": 23,
   "id": "643a931a",
   "metadata": {
    "execution": {
     "iopub.execute_input": "2023-10-06T15:52:53.355203Z",
     "iopub.status.busy": "2023-10-06T15:52:53.354943Z",
     "iopub.status.idle": "2023-10-06T15:52:53.359642Z",
     "shell.execute_reply": "2023-10-06T15:52:53.358810Z"
    },
    "papermill": {
     "duration": 0.014595,
     "end_time": "2023-10-06T15:52:53.361361",
     "exception": false,
     "start_time": "2023-10-06T15:52:53.346766",
     "status": "completed"
    },
    "tags": []
   },
   "outputs": [
    {
     "name": "stdout",
     "output_type": "stream",
     "text": [
      "(1717, 1) (196, 1) (28, 1)\n"
     ]
    }
   ],
   "source": [
    "# train / valid / test split\n",
    "tr_arr = ste_normalized[:1717,:]\n",
    "va_arr = ste_normalized[1717:1913,:]\n",
    "te_arr = ste_normalized[1913:,:]\n",
    "\n",
    "print(tr_arr.shape, va_arr.shape, te_arr.shape)"
   ]
  },
  {
   "cell_type": "code",
   "execution_count": 24,
   "id": "e2483bef",
   "metadata": {
    "execution": {
     "iopub.execute_input": "2023-10-06T15:52:53.377601Z",
     "iopub.status.busy": "2023-10-06T15:52:53.377337Z",
     "iopub.status.idle": "2023-10-06T15:52:54.015439Z",
     "shell.execute_reply": "2023-10-06T15:52:54.014424Z"
    },
    "papermill": {
     "duration": 0.648658,
     "end_time": "2023-10-06T15:52:54.017616",
     "exception": false,
     "start_time": "2023-10-06T15:52:53.368958",
     "status": "completed"
    },
    "tags": []
   },
   "outputs": [
    {
     "data": {
      "image/png": "[encoded data removed]",
      "text/plain": [
       "<Figure size 540x360 with 1 Axes>"
      ]
     },
     "metadata": {},
     "output_type": "display_data"
    }
   ],
   "source": [
    "# make a plot to visualize the time series\n",
    "my_dpi = 100\n",
    "fig, ax = plt.subplots(nrows = 1, ncols = 1, figsize=(540/my_dpi, 360/my_dpi), dpi=my_dpi)\n",
    "y = pd.DataFrame(ste_normalized)\n",
    "y = pd.DataFrame(y).set_index(ste_td.index)\n",
    "y.index = pd.to_datetime(y.index)\n",
    "y.columns = [item_to_model]\n",
    "y.plot(color='C0', ax = ax)\n",
    "plt.xticks(fontsize=10)\n",
    "plt.yticks(fontsize=10)\n",
    "# plt.legend(False)\n",
    "plt.title(label = 'Sales Time Series Over Time',fontsize = 12)\n",
    "plt.xlabel(xlabel = 'Date',fontsize = 10)\n",
    "plt.tight_layout()\n",
    "plt.savefig(f'time_series_item.png', dpi = my_dpi);"
   ]
  },
  {
   "cell_type": "code",
   "execution_count": 25,
   "id": "7393a91a",
   "metadata": {
    "execution": {
     "iopub.execute_input": "2023-10-06T15:52:54.051732Z",
     "iopub.status.busy": "2023-10-06T15:52:54.051174Z",
     "iopub.status.idle": "2023-10-06T15:52:54.057473Z",
     "shell.execute_reply": "2023-10-06T15:52:54.056511Z"
    },
    "papermill": {
     "duration": 0.03171,
     "end_time": "2023-10-06T15:52:54.060129",
     "exception": false,
     "start_time": "2023-10-06T15:52:54.028419",
     "status": "completed"
    },
    "tags": []
   },
   "outputs": [],
   "source": [
    "class M5_Univariate_Dataset(Dataset):\n",
    "    def __init__(self, df, seq_length):\n",
    "        self.df = df\n",
    "        self.seq_length = seq_length\n",
    "        self.total_length = df.shape[0] - seq_length \n",
    "    \n",
    "    def __len__(self):\n",
    "        return self.total_length\n",
    "    \n",
    "    def __getitem__(self, index):\n",
    "        if index < self.total_length:\n",
    "            sequence = self.df[index: index + self.seq_length]\n",
    "            target = self.df[index + self.seq_length]\n",
    "            return torch.tensor(sequence, dtype=torch.float32), \\\n",
    "                    torch.tensor(target, dtype=torch.float32)\n"
   ]
  },
  {
   "cell_type": "code",
   "execution_count": 29,
   "id": "d1c1f785",
   "metadata": {
    "execution": {
     "iopub.execute_input": "2023-10-06T15:52:54.103295Z",
     "iopub.status.busy": "2023-10-06T15:52:54.102940Z",
     "iopub.status.idle": "2023-10-06T15:52:54.114158Z",
     "shell.execute_reply": "2023-10-06T15:52:54.113126Z"
    },
    "papermill": {
     "duration": 0.035528,
     "end_time": "2023-10-06T15:52:54.119561",
     "exception": false,
     "start_time": "2023-10-06T15:52:54.084033",
     "status": "completed"
    },
    "tags": []
   },
   "outputs": [
    {
     "name": "stdout",
     "output_type": "stream",
     "text": [
      "53 6\n"
     ]
    }
   ],
   "source": [
    "BATCH_SIZE = 32\n",
    "SEQ_LENGTH = 28\n",
    "tr_ds = M5_Univariate_Dataset(tr_arr, SEQ_LENGTH)\n",
    "va_ds = M5_Univariate_Dataset(va_arr, SEQ_LENGTH)\n",
    "\n",
    "num_workers = multiprocessing.cpu_count()\n",
    "print(len(tr_dl), len(va_dl))"
   ]
  },
  {
   "cell_type": "code",
   "execution_count": 28,
   "id": "eed0d2f1",
   "metadata": {
    "execution": {
     "iopub.execute_input": "2023-10-06T15:52:54.140560Z",
     "iopub.status.busy": "2023-10-06T15:52:54.140217Z",
     "iopub.status.idle": "2023-10-06T15:52:58.185396Z",
     "shell.execute_reply": "2023-10-06T15:52:58.184037Z"
    },
    "papermill": {
     "duration": 4.057209,
     "end_time": "2023-10-06T15:52:58.187753",
     "exception": false,
     "start_time": "2023-10-06T15:52:54.130544",
     "status": "completed"
    },
    "tags": []
   },
   "outputs": [
    {
     "name": "stdout",
     "output_type": "stream",
     "text": [
      "Training Set:\n",
      "\n",
      "batch dimensions: torch.Size([32, 28, 1])\n",
      "label dimensions: torch.Size([32, 1])\n",
      "tensor([[-0.8667],\n",
      "        [-1.0000],\n",
      "        [-0.8667]])\n",
      "\n",
      "Validation Set:\n",
      "batch dimensions: torch.Size([32, 28, 1])\n",
      "target dimensions: torch.Size([32, 1])\n",
      "tensor([[-1.0000],\n",
      "        [-1.0000],\n",
      "        [-0.4667]])\n"
     ]
    }
   ],
   "source": [
    "tr_dl = DataLoader(tr_ds, batch_size=32, shuffle=True, num_workers=0)\n",
    "va_dl = DataLoader(va_ds, batch_size=32, shuffle=False, num_workers=0)\n",
    "\n",
    "# Checking the training dataset\n",
    "print('Training Set:\\n')\n",
    "for history, target in tr_dl:  \n",
    "    print('batch dimensions:', history.size())\n",
    "    print('label dimensions:', target.size())\n",
    "    print(target[:3])\n",
    "    break\n",
    "    \n",
    "# Checking the validation dataset\n",
    "print('\\nValidation Set:')\n",
    "for history, target in va_dl:  \n",
    "    print('batch dimensions:', history.size())\n",
    "    print('target dimensions:', target.size())\n",
    "    print(target[:3])\n",
    "    break"
   ]
  },
  {
   "cell_type": "markdown",
   "id": "81f9c4f5",
   "metadata": {
    "execution": {
     "iopub.execute_input": "2023-10-05T12:58:04.545002Z",
     "iopub.status.busy": "2023-10-05T12:58:04.544481Z",
     "iopub.status.idle": "2023-10-05T12:58:04.551835Z",
     "shell.execute_reply": "2023-10-05T12:58:04.550360Z",
     "shell.execute_reply.started": "2023-10-05T12:58:04.544960Z"
    },
    "papermill": {
     "duration": 0.009867,
     "end_time": "2023-10-06T15:52:58.206731",
     "exception": false,
     "start_time": "2023-10-06T15:52:58.196864",
     "status": "completed"
    },
    "tags": []
   },
   "source": [
    "#### 2.2 Define LSTM model <a class=\"anchor\" id=\"22\"></a>"
   ]
  },
  {
   "cell_type": "code",
   "execution_count": 18,
   "id": "14a2c4e4",
   "metadata": {
    "execution": {
     "iopub.execute_input": "2023-10-06T15:52:58.225644Z",
     "iopub.status.busy": "2023-10-06T15:52:58.225277Z",
     "iopub.status.idle": "2023-10-06T15:52:58.232056Z",
     "shell.execute_reply": "2023-10-06T15:52:58.230998Z"
    },
    "papermill": {
     "duration": 0.018491,
     "end_time": "2023-10-06T15:52:58.233927",
     "exception": false,
     "start_time": "2023-10-06T15:52:58.215436",
     "status": "completed"
    },
    "tags": []
   },
   "outputs": [],
   "source": [
    "class LSTM(nn.Module):\n",
    "\n",
    "    def __init__(self, input_size, hidden_size, num_layers):\n",
    "        super().__init__()\n",
    "        \n",
    "        self.lstm = nn.LSTM(input_size=input_size, hidden_size=hidden_size,\n",
    "                            num_layers=num_layers, batch_first=True)\n",
    "        \n",
    "        self.fc = nn.Linear(hidden_size, 1)\n",
    "\n",
    "    def forward(self, x):\n",
    "        # out: (batch_size, seq_length, hidden_size)\n",
    "        out, _ = self.lstm(x)\n",
    "        # take the out at the last time step\n",
    "        # out: (batch_size, hidden_size)\n",
    "        out = out[:, -1]\n",
    "        # pred: (batch_size, 1)\n",
    "        pred = self.fc(out)\n",
    "        # output: batch_size\n",
    "        return pred.squeeze()"
   ]
  },
  {
   "cell_type": "code",
   "execution_count": 19,
   "id": "3cd6f13a",
   "metadata": {
    "execution": {
     "iopub.execute_input": "2023-10-06T15:52:58.252254Z",
     "iopub.status.busy": "2023-10-06T15:52:58.251417Z",
     "iopub.status.idle": "2023-10-06T15:52:58.255946Z",
     "shell.execute_reply": "2023-10-06T15:52:58.255105Z"
    },
    "papermill": {
     "duration": 0.015603,
     "end_time": "2023-10-06T15:52:58.257745",
     "exception": false,
     "start_time": "2023-10-06T15:52:58.242142",
     "status": "completed"
    },
    "tags": []
   },
   "outputs": [],
   "source": [
    "num_epochs = 10\n",
    "learning_rate = 1e-4\n",
    "input_size = 1\n",
    "hidden_size = 64\n",
    "num_layers = 1"
   ]
  },
  {
   "cell_type": "code",
   "execution_count": 20,
   "id": "6152ed5f",
   "metadata": {
    "execution": {
     "iopub.execute_input": "2023-10-06T15:52:58.275852Z",
     "iopub.status.busy": "2023-10-06T15:52:58.275538Z",
     "iopub.status.idle": "2023-10-06T15:53:01.518242Z",
     "shell.execute_reply": "2023-10-06T15:53:01.517118Z"
    },
    "papermill": {
     "duration": 3.254255,
     "end_time": "2023-10-06T15:53:01.520500",
     "exception": false,
     "start_time": "2023-10-06T15:52:58.266245",
     "status": "completed"
    },
    "tags": []
   },
   "outputs": [],
   "source": [
    "#####Init the Model #######################\n",
    "lstm = LSTM(input_size, hidden_size, num_layers)\n",
    "lstm.to(device)\n",
    "\n",
    "##### Set Criterion Optimzer and scheduler ####################\n",
    "loss_fn = torch.nn.MSELoss().to(device)    # mean-squared error for regression\n",
    "optimizer = torch.optim.Adam(lstm.parameters(), lr=learning_rate, weight_decay=1e-6)"
   ]
  },
  {
   "cell_type": "markdown",
   "id": "76c14d71",
   "metadata": {
    "papermill": {
     "duration": 0.008581,
     "end_time": "2023-10-06T15:53:01.537525",
     "exception": false,
     "start_time": "2023-10-06T15:53:01.528944",
     "status": "completed"
    },
    "tags": []
   },
   "source": [
    "#### 2.3 Train model <a class=\"anchor\" id=\"23\"></a>"
   ]
  },
  {
   "cell_type": "code",
   "execution_count": 21,
   "id": "f3c7b1e3",
   "metadata": {
    "execution": {
     "iopub.execute_input": "2023-10-06T15:53:01.556467Z",
     "iopub.status.busy": "2023-10-06T15:53:01.555428Z",
     "iopub.status.idle": "2023-10-06T15:53:07.242345Z",
     "shell.execute_reply": "2023-10-06T15:53:07.241107Z"
    },
    "papermill": {
     "duration": 5.698837,
     "end_time": "2023-10-06T15:53:07.244835",
     "exception": false,
     "start_time": "2023-10-06T15:53:01.545998",
     "status": "completed"
    },
    "tags": []
   },
   "outputs": [
    {
     "name": "stdout",
     "output_type": "stream",
     "text": [
      "Epoch 00/10 \t t=1s \tloss=0.510 \t val_loss=0.396\n"
     ]
    }
   ],
   "source": [
    "def train(model, num_epochs, tr_dl, va_dl):\n",
    "    loss_hist_train = [0] * num_epochs\n",
    "    loss_hist_valid = [0] * num_epochs\n",
    "    \n",
    "    model.to(device)\n",
    "    start_time = time.time()\n",
    "    for epoch in range(num_epochs): \n",
    "        lstm.train()\n",
    "        avg_loss = 0\n",
    "        for i, (history, target) in enumerate(tr_dl):\n",
    "            # forward\n",
    "            outputs = lstm(history.to(device))\n",
    "            loss = loss_fn(outputs, target.to(device))\n",
    "            # backward\n",
    "            optimizer.zero_grad()\n",
    "            loss.backward()\n",
    "            # update\n",
    "            optimizer.step()\n",
    "            # log\n",
    "            avg_loss += loss.item() / len(tr_dl)\n",
    "\n",
    "        lstm.eval()\n",
    "        avg_val_loss = 0\n",
    "        with torch.no_grad():\n",
    "            for history, target in va_dl:\n",
    "                outputs = lstm(history.to(device))\n",
    "                loss = loss_fn(outputs, target.to(device))\n",
    "                avg_val_loss += loss.item() / len(va_dl)\n",
    "\n",
    "        elapsed_time = time.time() - start_time\n",
    "        \n",
    "        loss_hist_train[epoch] = avg_loss\n",
    "        loss_hist_valid[epoch] = avg_val_loss\n",
    "        \n",
    "        if epoch % 10 == 0:\n",
    "            print(\n",
    "                    f\"Epoch {epoch:02d}/{num_epochs:02d} \\t t={elapsed_time:.0f}s \\t\"\n",
    "                    f\"loss={avg_loss:.3f} \\t\",\n",
    "                    f\"val_loss={avg_val_loss:.3f}\"\n",
    "                )\n",
    "    return loss_hist_train, loss_hist_valid\n",
    "\n",
    "history = train(lstm, num_epochs, tr_dl, va_dl)"
   ]
  },
  {
   "cell_type": "code",
   "execution_count": 22,
   "id": "aa75a553",
   "metadata": {
    "execution": {
     "iopub.execute_input": "2023-10-06T15:53:07.264828Z",
     "iopub.status.busy": "2023-10-06T15:53:07.263735Z",
     "iopub.status.idle": "2023-10-06T15:53:07.274473Z",
     "shell.execute_reply": "2023-10-06T15:53:07.273511Z"
    },
    "papermill": {
     "duration": 0.022495,
     "end_time": "2023-10-06T15:53:07.276465",
     "exception": false,
     "start_time": "2023-10-06T15:53:07.253970",
     "status": "completed"
    },
    "tags": []
   },
   "outputs": [],
   "source": [
    "# save training history to file\n",
    "l1 = history[0]\n",
    "l2 = history[1]\n",
    "df = pd.DataFrame(zip(l1,l2), columns =['Train_mse', 'Validation_mse'])\n",
    "df.to_csv('history_uni.csv')"
   ]
  },
  {
   "cell_type": "code",
   "execution_count": 23,
   "id": "339fad0f",
   "metadata": {
    "execution": {
     "iopub.execute_input": "2023-10-06T15:53:07.296413Z",
     "iopub.status.busy": "2023-10-06T15:53:07.296058Z",
     "iopub.status.idle": "2023-10-06T15:53:07.678880Z",
     "shell.execute_reply": "2023-10-06T15:53:07.678020Z"
    },
    "papermill": {
     "duration": 0.395138,
     "end_time": "2023-10-06T15:53:07.680713",
     "exception": false,
     "start_time": "2023-10-06T15:53:07.285575",
     "status": "completed"
    },
    "tags": []
   },
   "outputs": [
    {
     "data": {
      "image/png": "[encoded data removed]",
      "text/plain": [
       "<Figure size 540x360 with 1 Axes>"
      ]
     },
     "metadata": {},
     "output_type": "display_data"
    }
   ],
   "source": [
    "my_dpi = 100\n",
    "fig, ax = plt.subplots(nrows = 1, ncols = 1, figsize=(540/my_dpi, 360/my_dpi), dpi=my_dpi)\n",
    "ax.plot(history[0], lw=2)\n",
    "ax.plot(history[1], lw=2)\n",
    "ax.legend(['Train loss', 'Validation loss'], fontsize=12)\n",
    "ax.set_xlabel('Epochs', size=12)\n",
    "plt.tight_layout()\n",
    "plt.savefig(f'model_train_history_uni.png', dpi = my_dpi);"
   ]
  },
  {
   "cell_type": "markdown",
   "id": "223bf7e8",
   "metadata": {
    "papermill": {
     "duration": 0.009203,
     "end_time": "2023-10-06T15:53:07.699321",
     "exception": false,
     "start_time": "2023-10-06T15:53:07.690118",
     "status": "completed"
    },
    "tags": []
   },
   "source": [
    "#### 2.4 Forecasting several steps <a class=\"anchor\" id=\"24\"></a>"
   ]
  },
  {
   "cell_type": "code",
   "execution_count": 24,
   "id": "db8c6606",
   "metadata": {
    "execution": {
     "iopub.execute_input": "2023-10-06T15:53:07.718701Z",
     "iopub.status.busy": "2023-10-06T15:53:07.717905Z",
     "iopub.status.idle": "2023-10-06T15:53:07.738744Z",
     "shell.execute_reply": "2023-10-06T15:53:07.737803Z"
    },
    "papermill": {
     "duration": 0.032414,
     "end_time": "2023-10-06T15:53:07.740539",
     "exception": false,
     "start_time": "2023-10-06T15:53:07.708125",
     "status": "completed"
    },
    "tags": []
   },
   "outputs": [],
   "source": [
    "PREDICTION_LENGTH = 28\n",
    "va_last_seq = va_arr[-SEQ_LENGTH:]\n",
    "x = torch.from_numpy(va_last_seq).float()\n",
    "x = x.to(device).unsqueeze(0)\n",
    "y_preds = []\n",
    "for step_ahead in range(PREDICTION_LENGTH):\n",
    "    y_pred_one = lstm(x)\n",
    "    y_preds.append(y_pred_one.item())\n",
    "    x = torch.cat([x[:,1:,:], y_pred_one.reshape(1,1,1)], axis = 1)"
   ]
  },
  {
   "cell_type": "code",
   "execution_count": 26,
   "id": "8c1096b5",
   "metadata": {
    "execution": {
     "iopub.execute_input": "2023-10-06T15:53:07.759153Z",
     "iopub.status.busy": "2023-10-06T15:53:07.758397Z",
     "iopub.status.idle": "2023-10-06T15:53:08.191917Z",
     "shell.execute_reply": "2023-10-06T15:53:08.190990Z"
    },
    "papermill": {
     "duration": 0.444757,
     "end_time": "2023-10-06T15:53:08.193743",
     "exception": false,
     "start_time": "2023-10-06T15:53:07.748986",
     "status": "completed"
    },
    "tags": []
   },
   "outputs": [
    {
     "data": {
      "image/png": "[encoded data removed]",
      "text/plain": [
       "<Figure size 540x360 with 1 Axes>"
      ]
     },
     "metadata": {},
     "output_type": "display_data"
    }
   ],
   "source": [
    "my_dpi = 100\n",
    "fig, ax = plt.subplots(nrows = 1, ncols = 1, figsize=(540/my_dpi, 360/my_dpi), dpi=my_dpi)\n",
    "ax.plot(y_preds, lw=2)\n",
    "ax.plot(te_arr, lw=2)\n",
    "ax.legend(['Forecast', 'Actual'], fontsize=12)\n",
    "ax.set_xlabel('Epochs', size=12)\n",
    "plt.tight_layout()\n",
    "plt.savefig(f'forecast_uni.png', dpi = my_dpi);"
   ]
  },
  {
   "cell_type": "code",
   "execution_count": 28,
   "id": "e7511524",
   "metadata": {
    "execution": {
     "iopub.execute_input": "2023-10-06T15:53:08.214144Z",
     "iopub.status.busy": "2023-10-06T15:53:08.213795Z",
     "iopub.status.idle": "2023-10-06T15:53:08.220448Z",
     "shell.execute_reply": "2023-10-06T15:53:08.219433Z"
    },
    "papermill": {
     "duration": 0.019017,
     "end_time": "2023-10-06T15:53:08.222378",
     "exception": false,
     "start_time": "2023-10-06T15:53:08.203361",
     "status": "completed"
    },
    "tags": []
   },
   "outputs": [
    {
     "name": "stdout",
     "output_type": "stream",
     "text": [
      "MSE on the test period = 0.05552173067746471\n"
     ]
    }
   ],
   "source": [
    "print('MSE on the test period =', mean_squared_error(te_arr[:,0], y_preds))"
   ]
  },
  {
   "cell_type": "markdown",
   "id": "09daa7d4",
   "metadata": {
    "papermill": {
     "duration": 0.009209,
     "end_time": "2023-10-06T15:53:08.241463",
     "exception": false,
     "start_time": "2023-10-06T15:53:08.232254",
     "status": "completed"
    },
    "tags": []
   },
   "source": [
    "### 3. LSTM model for multivariate time series <a class=\"anchor\" id=\"3\"></a>"
   ]
  },
  {
   "cell_type": "markdown",
   "id": "74d0967d",
   "metadata": {
    "papermill": {
     "duration": 0.008874,
     "end_time": "2023-10-06T15:53:08.259460",
     "exception": false,
     "start_time": "2023-10-06T15:53:08.250586",
     "status": "completed"
    },
    "tags": []
   },
   "source": [
    "#### 3.1 Define Dataset <a class=\"anchor\" id=\"31\"></a>"
   ]
  },
  {
   "cell_type": "code",
   "execution_count": 29,
   "id": "1ab8cce7",
   "metadata": {
    "execution": {
     "iopub.execute_input": "2023-10-06T15:53:08.279337Z",
     "iopub.status.busy": "2023-10-06T15:53:08.279032Z",
     "iopub.status.idle": "2023-10-06T15:53:08.311381Z",
     "shell.execute_reply": "2023-10-06T15:53:08.310404Z"
    },
    "papermill": {
     "duration": 0.044837,
     "end_time": "2023-10-06T15:53:08.313342",
     "exception": false,
     "start_time": "2023-10-06T15:53:08.268505",
     "status": "completed"
    },
    "tags": []
   },
   "outputs": [
    {
     "data": {
      "text/html": [
       "<div>\n",
       "<style scoped>\n",
       "    .dataframe tbody tr th:only-of-type {\n",
       "        vertical-align: middle;\n",
       "    }\n",
       "\n",
       "    .dataframe tbody tr th {\n",
       "        vertical-align: top;\n",
       "    }\n",
       "\n",
       "    .dataframe thead th {\n",
       "        text-align: right;\n",
       "    }\n",
       "</style>\n",
       "<table border=\"1\" class=\"dataframe\">\n",
       "  <thead>\n",
       "    <tr style=\"text-align: right;\">\n",
       "      <th></th>\n",
       "      <th>date</th>\n",
       "      <th>HOBBIES_1_004_CA_1_evaluation</th>\n",
       "      <th>tmr</th>\n",
       "      <th>tmr_dow</th>\n",
       "    </tr>\n",
       "  </thead>\n",
       "  <tbody>\n",
       "    <tr>\n",
       "      <th>1931</th>\n",
       "      <td>2016-05-13</td>\n",
       "      <td>1</td>\n",
       "      <td>2016-05-14</td>\n",
       "      <td>Saturday</td>\n",
       "    </tr>\n",
       "    <tr>\n",
       "      <th>1932</th>\n",
       "      <td>2016-05-14</td>\n",
       "      <td>1</td>\n",
       "      <td>2016-05-15</td>\n",
       "      <td>Sunday</td>\n",
       "    </tr>\n",
       "    <tr>\n",
       "      <th>1933</th>\n",
       "      <td>2016-05-15</td>\n",
       "      <td>0</td>\n",
       "      <td>2016-05-16</td>\n",
       "      <td>Monday</td>\n",
       "    </tr>\n",
       "    <tr>\n",
       "      <th>1934</th>\n",
       "      <td>2016-05-16</td>\n",
       "      <td>4</td>\n",
       "      <td>2016-05-17</td>\n",
       "      <td>Tuesday</td>\n",
       "    </tr>\n",
       "    <tr>\n",
       "      <th>1935</th>\n",
       "      <td>2016-05-17</td>\n",
       "      <td>0</td>\n",
       "      <td>2016-05-18</td>\n",
       "      <td>Wednesday</td>\n",
       "    </tr>\n",
       "    <tr>\n",
       "      <th>1936</th>\n",
       "      <td>2016-05-18</td>\n",
       "      <td>1</td>\n",
       "      <td>2016-05-19</td>\n",
       "      <td>Thursday</td>\n",
       "    </tr>\n",
       "    <tr>\n",
       "      <th>1937</th>\n",
       "      <td>2016-05-19</td>\n",
       "      <td>3</td>\n",
       "      <td>2016-05-20</td>\n",
       "      <td>Friday</td>\n",
       "    </tr>\n",
       "    <tr>\n",
       "      <th>1938</th>\n",
       "      <td>2016-05-20</td>\n",
       "      <td>0</td>\n",
       "      <td>2016-05-21</td>\n",
       "      <td>Saturday</td>\n",
       "    </tr>\n",
       "    <tr>\n",
       "      <th>1939</th>\n",
       "      <td>2016-05-21</td>\n",
       "      <td>2</td>\n",
       "      <td>2016-05-22</td>\n",
       "      <td>Sunday</td>\n",
       "    </tr>\n",
       "    <tr>\n",
       "      <th>1940</th>\n",
       "      <td>2016-05-22</td>\n",
       "      <td>6</td>\n",
       "      <td>2016-05-23</td>\n",
       "      <td>Monday</td>\n",
       "    </tr>\n",
       "  </tbody>\n",
       "</table>\n",
       "</div>"
      ],
      "text/plain": [
       "           date  HOBBIES_1_004_CA_1_evaluation        tmr    tmr_dow\n",
       "1931 2016-05-13                              1 2016-05-14   Saturday\n",
       "1932 2016-05-14                              1 2016-05-15     Sunday\n",
       "1933 2016-05-15                              0 2016-05-16     Monday\n",
       "1934 2016-05-16                              4 2016-05-17    Tuesday\n",
       "1935 2016-05-17                              0 2016-05-18  Wednesday\n",
       "1936 2016-05-18                              1 2016-05-19   Thursday\n",
       "1937 2016-05-19                              3 2016-05-20     Friday\n",
       "1938 2016-05-20                              0 2016-05-21   Saturday\n",
       "1939 2016-05-21                              2 2016-05-22     Sunday\n",
       "1940 2016-05-22                              6 2016-05-23     Monday"
      ]
     },
     "execution_count": 29,
     "metadata": {},
     "output_type": "execute_result"
    }
   ],
   "source": [
    "# add the day of week of yesterday as a new series\n",
    "ste_t = sales_train_evaluation_df[['id']+ d_cols].set_index('id').T\n",
    "ste_td = ste_t.merge(calendar_df[['date','d']].set_index('d'),\n",
    "           left_index = True, right_index=True, validate='1:1').set_index('date')\n",
    "ste_td = ste_td.reset_index()\n",
    "ste_td = ste_td.assign(date = pd.to_datetime(ste_td.date))\n",
    "ste_td = ste_td.assign(tmr = ste_td.date.shift(-1))\n",
    "ste_td.loc[ste_td.shape[0] - 1,'tmr'] = ste_td.loc[ste_td.shape[0] - 1,'date']  + pd.DateOffset(1)\n",
    "ste_td = ste_td.assign(tmr_dow = ste_td.tmr.dt.day_name().astype('category'))\n",
    "ste_td.tail(10)"
   ]
  },
  {
   "cell_type": "code",
   "execution_count": 30,
   "id": "26edb788",
   "metadata": {
    "execution": {
     "iopub.execute_input": "2023-10-06T15:53:08.333685Z",
     "iopub.status.busy": "2023-10-06T15:53:08.333101Z",
     "iopub.status.idle": "2023-10-06T15:53:08.352139Z",
     "shell.execute_reply": "2023-10-06T15:53:08.350690Z"
    },
    "papermill": {
     "duration": 0.031891,
     "end_time": "2023-10-06T15:53:08.354599",
     "exception": false,
     "start_time": "2023-10-06T15:53:08.322708",
     "status": "completed"
    },
    "tags": []
   },
   "outputs": [
    {
     "name": "stdout",
     "output_type": "stream",
     "text": [
      "tmr_dow unique levels = 7\n",
      "tmr_dow\n",
      "Monday       278\n",
      "Sunday       278\n",
      "Friday       277\n",
      "Saturday     277\n",
      "Thursday     277\n",
      "Tuesday      277\n",
      "Wednesday    277\n",
      "Name: count, dtype: int64\n"
     ]
    }
   ],
   "source": [
    "unique_levels = len(set(ste_td['tmr_dow']))\n",
    "print('tmr_dow', 'unique levels =', unique_levels)\n",
    "print(ste_td['tmr_dow'].value_counts(dropna = False))\n",
    "dow_encoded = F.one_hot((torch.from_numpy(ste_td['tmr_dow'].cat.codes.values) % unique_levels).long(), num_classes = unique_levels)\n",
    "y = torch.from_numpy(ste_td['HOBBIES_1_004_CA_1_evaluation'].values).float()\n",
    "data = torch.cat([y.reshape(-1,1), dow_encoded], axis = 1)"
   ]
  },
  {
   "cell_type": "code",
   "execution_count": 31,
   "id": "d8c06ebe",
   "metadata": {
    "execution": {
     "iopub.execute_input": "2023-10-06T15:53:08.376084Z",
     "iopub.status.busy": "2023-10-06T15:53:08.375488Z",
     "iopub.status.idle": "2023-10-06T15:53:08.381753Z",
     "shell.execute_reply": "2023-10-06T15:53:08.380891Z"
    },
    "papermill": {
     "duration": 0.018689,
     "end_time": "2023-10-06T15:53:08.383472",
     "exception": false,
     "start_time": "2023-10-06T15:53:08.364783",
     "status": "completed"
    },
    "tags": []
   },
   "outputs": [],
   "source": [
    "# normalize to range from -1 to 1\n",
    "scaler = MinMaxScaler(feature_range=(-1, 1))\n",
    "ste_normalized = scaler.fit_transform(data)"
   ]
  },
  {
   "cell_type": "code",
   "execution_count": 32,
   "id": "ab034735",
   "metadata": {
    "execution": {
     "iopub.execute_input": "2023-10-06T15:53:08.403187Z",
     "iopub.status.busy": "2023-10-06T15:53:08.402901Z",
     "iopub.status.idle": "2023-10-06T15:53:08.407826Z",
     "shell.execute_reply": "2023-10-06T15:53:08.406974Z"
    },
    "papermill": {
     "duration": 0.017129,
     "end_time": "2023-10-06T15:53:08.409709",
     "exception": false,
     "start_time": "2023-10-06T15:53:08.392580",
     "status": "completed"
    },
    "tags": []
   },
   "outputs": [
    {
     "name": "stdout",
     "output_type": "stream",
     "text": [
      "(1717, 8) (196, 8) (28, 8)\n"
     ]
    }
   ],
   "source": [
    "# train / valid / test split\n",
    "\n",
    "tr_arr = ste_normalized[:1717,:]\n",
    "va_arr = ste_normalized[1717:1913,:]\n",
    "te_arr = ste_normalized[1913:,:]\n",
    "\n",
    "print(tr_arr.shape, va_arr.shape, te_arr.shape)"
   ]
  },
  {
   "cell_type": "code",
   "execution_count": 34,
   "id": "147352ce",
   "metadata": {
    "execution": {
     "iopub.execute_input": "2023-10-06T15:53:08.430324Z",
     "iopub.status.busy": "2023-10-06T15:53:08.429576Z",
     "iopub.status.idle": "2023-10-06T15:53:08.435847Z",
     "shell.execute_reply": "2023-10-06T15:53:08.435006Z"
    },
    "papermill": {
     "duration": 0.018473,
     "end_time": "2023-10-06T15:53:08.437600",
     "exception": false,
     "start_time": "2023-10-06T15:53:08.419127",
     "status": "completed"
    },
    "tags": []
   },
   "outputs": [],
   "source": [
    "class M5_Multivariate_Dataset(Dataset):\n",
    "    def __init__(self, df, seq_length):\n",
    "        self.df = df\n",
    "        self.seq_length = seq_length\n",
    "        self.total_length = len(df[:,0]) - seq_length \n",
    "    \n",
    "    def __len__(self):\n",
    "        return self.total_length\n",
    "    \n",
    "    def __getitem__(self, index):\n",
    "        if index < self.total_length:\n",
    "            sequence = self.df[index: index + self.seq_length,:]\n",
    "            target = self.df[index + self.seq_length,0]\n",
    "            return torch.tensor(sequence, dtype=torch.float32), \\\n",
    "                    torch.tensor(target, dtype=torch.float32)"
   ]
  },
  {
   "cell_type": "code",
   "execution_count": 35,
   "id": "12179a5f",
   "metadata": {
    "execution": {
     "iopub.execute_input": "2023-10-06T15:53:08.476104Z",
     "iopub.status.busy": "2023-10-06T15:53:08.475600Z",
     "iopub.status.idle": "2023-10-06T15:53:08.488515Z",
     "shell.execute_reply": "2023-10-06T15:53:08.484711Z"
    },
    "papermill": {
     "duration": 0.041083,
     "end_time": "2023-10-06T15:53:08.493858",
     "exception": false,
     "start_time": "2023-10-06T15:53:08.452775",
     "status": "completed"
    },
    "tags": []
   },
   "outputs": [
    {
     "name": "stdout",
     "output_type": "stream",
     "text": [
      "53 6\n"
     ]
    }
   ],
   "source": [
    "BATCH_SIZE = 32\n",
    "SEQ_LENGTH = 28\n",
    "tr_ds = M5_Multivariate_Dataset(tr_arr, SEQ_LENGTH)\n",
    "va_ds = M5_Multivariate_Dataset(va_arr, SEQ_LENGTH)\n",
    "\n",
    "num_workers = multiprocessing.cpu_count()\n",
    "print(len(tr_dl), len(va_dl))"
   ]
  },
  {
   "cell_type": "code",
   "execution_count": 36,
   "id": "7122893c",
   "metadata": {
    "execution": {
     "iopub.execute_input": "2023-10-06T15:53:08.534983Z",
     "iopub.status.busy": "2023-10-06T15:53:08.534598Z",
     "iopub.status.idle": "2023-10-06T15:53:08.986609Z",
     "shell.execute_reply": "2023-10-06T15:53:08.985279Z"
    },
    "papermill": {
     "duration": 0.475289,
     "end_time": "2023-10-06T15:53:08.989824",
     "exception": false,
     "start_time": "2023-10-06T15:53:08.514535",
     "status": "completed"
    },
    "tags": []
   },
   "outputs": [
    {
     "name": "stdout",
     "output_type": "stream",
     "text": [
      "Training Set:\n",
      "\n",
      "batch dimensions: torch.Size([32, 28, 8])\n",
      "label dimensions: torch.Size([32])\n",
      "tensor([-0.4667, -0.8667, -0.3333])\n",
      "\n",
      "Validation Set:\n",
      "batch dimensions: torch.Size([32, 28, 8])\n",
      "target dimensions: torch.Size([32])\n",
      "tensor([-1.0000, -1.0000, -0.4667])\n"
     ]
    }
   ],
   "source": [
    "tr_dl = DataLoader(tr_ds, batch_size=32, shuffle=True, num_workers=0)\n",
    "va_dl = DataLoader(va_ds, batch_size=32, shuffle=False, num_workers=0)\n",
    "# Checking the dataset\n",
    "print('Training Set:\\n')\n",
    "for history, target in tr_dl:  \n",
    "    print('batch dimensions:', history.size())\n",
    "    print('label dimensions:', target.size())\n",
    "    print(target[:3])\n",
    "    break\n",
    "    \n",
    "# Checking the dataset\n",
    "print('\\nValidation Set:')\n",
    "for history, target in va_dl:  \n",
    "    print('batch dimensions:', history.size())\n",
    "    print('target dimensions:', target.size())\n",
    "    print(target[:3])\n",
    "    break"
   ]
  },
  {
   "cell_type": "markdown",
   "id": "0183f677",
   "metadata": {
    "papermill": {
     "duration": 0.017161,
     "end_time": "2023-10-06T15:53:09.026400",
     "exception": false,
     "start_time": "2023-10-06T15:53:09.009239",
     "status": "completed"
    },
    "tags": []
   },
   "source": [
    "#### 3.2 Define LSTM model <a class=\"anchor\" id=\"32\"></a>"
   ]
  },
  {
   "cell_type": "code",
   "execution_count": 53,
   "id": "d855f84c",
   "metadata": {
    "execution": {
     "iopub.execute_input": "2023-10-06T15:53:09.061426Z",
     "iopub.status.busy": "2023-10-06T15:53:09.060813Z",
     "iopub.status.idle": "2023-10-06T15:53:09.066740Z",
     "shell.execute_reply": "2023-10-06T15:53:09.065904Z"
    },
    "papermill": {
     "duration": 0.029974,
     "end_time": "2023-10-06T15:53:09.072236",
     "exception": false,
     "start_time": "2023-10-06T15:53:09.042262",
     "status": "completed"
    },
    "tags": []
   },
   "outputs": [],
   "source": [
    "#####  Parameters  ######################\n",
    "num_epochs = 100\n",
    "learning_rate = 3e-4\n",
    "input_size = tr_arr.shape[1]\n",
    "hidden_size = 64\n",
    "num_layers = 1"
   ]
  },
  {
   "cell_type": "code",
   "execution_count": 38,
   "id": "2cb8729b",
   "metadata": {
    "execution": {
     "iopub.execute_input": "2023-10-06T15:53:09.108963Z",
     "iopub.status.busy": "2023-10-06T15:53:09.108542Z",
     "iopub.status.idle": "2023-10-06T15:53:09.119475Z",
     "shell.execute_reply": "2023-10-06T15:53:09.118594Z"
    },
    "papermill": {
     "duration": 0.032072,
     "end_time": "2023-10-06T15:53:09.122007",
     "exception": false,
     "start_time": "2023-10-06T15:53:09.089935",
     "status": "completed"
    },
    "tags": []
   },
   "outputs": [],
   "source": [
    "##### Init the Model #######################\n",
    "lstm = LSTM(input_size, hidden_size, num_layers)\n",
    "lstm.to(device)\n",
    "\n",
    "##### Set Criterion Optimzer and scheduler ####################\n",
    "loss_fn = torch.nn.MSELoss().to(device)    # mean-squared error for regression\n",
    "optimizer = torch.optim.Adam(lstm.parameters(), lr=learning_rate, weight_decay=1e-6)"
   ]
  },
  {
   "cell_type": "markdown",
   "id": "3c252603",
   "metadata": {
    "papermill": {
     "duration": 0.016736,
     "end_time": "2023-10-06T15:53:09.156653",
     "exception": false,
     "start_time": "2023-10-06T15:53:09.139917",
     "status": "completed"
    },
    "tags": []
   },
   "source": [
    "#### 3.3 Train model <a class=\"anchor\" id=\"33\"></a>"
   ]
  },
  {
   "cell_type": "code",
   "execution_count": 54,
   "id": "3b7bb92b",
   "metadata": {
    "execution": {
     "iopub.execute_input": "2023-10-06T15:53:09.191079Z",
     "iopub.status.busy": "2023-10-06T15:53:09.190614Z",
     "iopub.status.idle": "2023-10-06T15:53:14.374258Z",
     "shell.execute_reply": "2023-10-06T15:53:14.372988Z"
    },
    "papermill": {
     "duration": 5.203801,
     "end_time": "2023-10-06T15:53:14.376941",
     "exception": false,
     "start_time": "2023-10-06T15:53:09.173140",
     "status": "completed"
    },
    "tags": []
   },
   "outputs": [
    {
     "name": "stdout",
     "output_type": "stream",
     "text": [
      "Epoch 00/100 \t t=1s \tloss=0.057 \t val_loss=0.053\n",
      "Epoch 10/100 \t t=6s \tloss=0.056 \t val_loss=0.060\n",
      "Epoch 20/100 \t t=12s \tloss=0.056 \t val_loss=0.053\n",
      "Epoch 30/100 \t t=17s \tloss=0.056 \t val_loss=0.053\n",
      "Epoch 40/100 \t t=25s \tloss=0.055 \t val_loss=0.053\n",
      "Epoch 50/100 \t t=31s \tloss=0.056 \t val_loss=0.052\n",
      "Epoch 60/100 \t t=36s \tloss=0.055 \t val_loss=0.052\n",
      "Epoch 70/100 \t t=43s \tloss=0.057 \t val_loss=0.052\n",
      "Epoch 80/100 \t t=49s \tloss=0.055 \t val_loss=0.057\n",
      "Epoch 90/100 \t t=56s \tloss=0.055 \t val_loss=0.055\n"
     ]
    }
   ],
   "source": [
    "history = train(lstm, num_epochs, tr_dl, va_dl)"
   ]
  },
  {
   "cell_type": "code",
   "execution_count": 55,
   "id": "7fa5151f",
   "metadata": {
    "execution": {
     "iopub.execute_input": "2023-10-06T15:53:14.398716Z",
     "iopub.status.busy": "2023-10-06T15:53:14.398399Z",
     "iopub.status.idle": "2023-10-06T15:53:14.407398Z",
     "shell.execute_reply": "2023-10-06T15:53:14.406534Z"
    },
    "papermill": {
     "duration": 0.022112,
     "end_time": "2023-10-06T15:53:14.409173",
     "exception": false,
     "start_time": "2023-10-06T15:53:14.387061",
     "status": "completed"
    },
    "tags": []
   },
   "outputs": [],
   "source": [
    "# write training history to file\n",
    "l1 = history[0]\n",
    "l2 = history[1]\n",
    "df = pd.DataFrame(zip(l1,l2), columns =['Train_mse', 'Validation_mse'])\n",
    "df.to_csv('history_multi.csv')\n"
   ]
  },
  {
   "cell_type": "code",
   "execution_count": 56,
   "id": "dd5fafe4",
   "metadata": {
    "execution": {
     "iopub.execute_input": "2023-10-06T15:53:14.430655Z",
     "iopub.status.busy": "2023-10-06T15:53:14.430100Z",
     "iopub.status.idle": "2023-10-06T15:53:14.969374Z",
     "shell.execute_reply": "2023-10-06T15:53:14.968437Z"
    },
    "papermill": {
     "duration": 0.551442,
     "end_time": "2023-10-06T15:53:14.971137",
     "exception": false,
     "start_time": "2023-10-06T15:53:14.419695",
     "status": "completed"
    },
    "tags": []
   },
   "outputs": [
    {
     "data": {
      "image/png": "[encoded data removed]",
      "text/plain": [
       "<Figure size 540x360 with 1 Axes>"
      ]
     },
     "metadata": {},
     "output_type": "display_data"
    }
   ],
   "source": [
    "my_dpi = 100\n",
    "fig, ax = plt.subplots(nrows = 1, ncols = 1, figsize=(540/my_dpi, 360/my_dpi), dpi=my_dpi)\n",
    "ax.plot(history[0], lw=2)\n",
    "ax.plot(history[1], lw=2)\n",
    "ax.legend(['Train loss', 'Validation loss'], fontsize=12)\n",
    "ax.set_xlabel('Epochs', size=12)\n",
    "plt.tight_layout()\n",
    "plt.savefig(f'model_train_history_multi.png', dpi = my_dpi);"
   ]
  },
  {
   "cell_type": "markdown",
   "id": "36d7aa1b",
   "metadata": {
    "papermill": {
     "duration": 0.01201,
     "end_time": "2023-10-06T15:53:14.993577",
     "exception": false,
     "start_time": "2023-10-06T15:53:14.981567",
     "status": "completed"
    },
    "tags": []
   },
   "source": [
    "#### 3.4 Forecasting several steps <a class=\"anchor\" id=\"34\"></a>"
   ]
  },
  {
   "cell_type": "code",
   "execution_count": 57,
   "id": "82363f2a",
   "metadata": {
    "execution": {
     "iopub.execute_input": "2023-10-06T15:53:15.015134Z",
     "iopub.status.busy": "2023-10-06T15:53:15.014751Z",
     "iopub.status.idle": "2023-10-06T15:53:15.037142Z",
     "shell.execute_reply": "2023-10-06T15:53:15.036253Z"
    },
    "papermill": {
     "duration": 0.035274,
     "end_time": "2023-10-06T15:53:15.038952",
     "exception": false,
     "start_time": "2023-10-06T15:53:15.003678",
     "status": "completed"
    },
    "tags": []
   },
   "outputs": [],
   "source": [
    "PREDICTION_LENGTH = 28\n",
    "\n",
    "va_last_seq = va_arr[-SEQ_LENGTH:]\n",
    "x = torch.from_numpy(va_last_seq).float()\n",
    "x = x.to(device).unsqueeze(0)\n",
    "y_preds = []\n",
    "for step_ahead in range(PREDICTION_LENGTH):\n",
    "    y_pred_one = lstm(x)\n",
    "    y_preds.append(y_pred_one.item())\n",
    "    y_pred_multi = torch.from_numpy(te_arr[step_ahead,1:]).float()\n",
    "    \n",
    "    y_pred_multi = torch.cat([y_pred_multi, y_pred_one.reshape(1).cpu().detach()], axis = 0)\n",
    "    x = torch.cat([x[:,1:,:], y_pred_multi.unsqueeze(0).unsqueeze(0).to(device)], axis = 1)"
   ]
  },
  {
   "cell_type": "code",
   "execution_count": 58,
   "id": "b1406197",
   "metadata": {
    "execution": {
     "iopub.execute_input": "2023-10-06T15:53:15.061256Z",
     "iopub.status.busy": "2023-10-06T15:53:15.060908Z",
     "iopub.status.idle": "2023-10-06T15:53:15.487346Z",
     "shell.execute_reply": "2023-10-06T15:53:15.486436Z"
    },
    "papermill": {
     "duration": 0.440008,
     "end_time": "2023-10-06T15:53:15.489270",
     "exception": false,
     "start_time": "2023-10-06T15:53:15.049262",
     "status": "completed"
    },
    "tags": []
   },
   "outputs": [
    {
     "data": {
      "image/png": "[encoded data removed]",
      "text/plain": [
       "<Figure size 540x360 with 1 Axes>"
      ]
     },
     "metadata": {},
     "output_type": "display_data"
    }
   ],
   "source": [
    "my_dpi = 100\n",
    "fig, ax = plt.subplots(nrows = 1, ncols = 1, figsize=(540/my_dpi, 360/my_dpi), dpi=my_dpi)\n",
    "ax.plot(y_preds, lw=2)\n",
    "ax.plot(te_arr[:,0], lw=2)\n",
    "ax.legend(['Forecast', 'Actual'], fontsize=12)\n",
    "ax.set_xlabel('Epochs', size=12)\n",
    "plt.tight_layout()\n",
    "plt.savefig(f'forecast_multi.png', dpi = my_dpi);"
   ]
  },
  {
   "cell_type": "code",
   "execution_count": 60,
   "id": "be1988c2",
   "metadata": {
    "execution": {
     "iopub.execute_input": "2023-10-06T15:53:15.513136Z",
     "iopub.status.busy": "2023-10-06T15:53:15.512782Z",
     "iopub.status.idle": "2023-10-06T15:53:15.518905Z",
     "shell.execute_reply": "2023-10-06T15:53:15.517926Z"
    },
    "papermill": {
     "duration": 0.020105,
     "end_time": "2023-10-06T15:53:15.520988",
     "exception": false,
     "start_time": "2023-10-06T15:53:15.500883",
     "status": "completed"
    },
    "tags": []
   },
   "outputs": [
    {
     "name": "stdout",
     "output_type": "stream",
     "text": [
      "MSE on the test period = 0.07501111989259633\n"
     ]
    }
   ],
   "source": [
    "print('MSE on the test period =', mean_squared_error(te_arr[:,0], y_preds))"
   ]
  },
  {
   "cell_type": "markdown",
   "id": "fc3eb519",
   "metadata": {},
   "source": [
    "#### Define RNN Model"
   ]
  },
  {
   "cell_type": "code",
   "execution_count": 33,
   "id": "0e00d140",
   "metadata": {},
   "outputs": [
    {
     "data": {
      "text/html": [
       "<div>\n",
       "<style scoped>\n",
       "    .dataframe tbody tr th:only-of-type {\n",
       "        vertical-align: middle;\n",
       "    }\n",
       "\n",
       "    .dataframe tbody tr th {\n",
       "        vertical-align: top;\n",
       "    }\n",
       "\n",
       "    .dataframe thead th {\n",
       "        text-align: right;\n",
       "    }\n",
       "</style>\n",
       "<table border=\"1\" class=\"dataframe\">\n",
       "  <thead>\n",
       "    <tr style=\"text-align: right;\">\n",
       "      <th></th>\n",
       "      <th>date</th>\n",
       "      <th>HOBBIES_1_004_CA_1_evaluation</th>\n",
       "      <th>tmr</th>\n",
       "      <th>tmr_dow</th>\n",
       "    </tr>\n",
       "  </thead>\n",
       "  <tbody>\n",
       "    <tr>\n",
       "      <th>1931</th>\n",
       "      <td>2016-05-13</td>\n",
       "      <td>1</td>\n",
       "      <td>2016-05-14</td>\n",
       "      <td>Saturday</td>\n",
       "    </tr>\n",
       "    <tr>\n",
       "      <th>1932</th>\n",
       "      <td>2016-05-14</td>\n",
       "      <td>1</td>\n",
       "      <td>2016-05-15</td>\n",
       "      <td>Sunday</td>\n",
       "    </tr>\n",
       "    <tr>\n",
       "      <th>1933</th>\n",
       "      <td>2016-05-15</td>\n",
       "      <td>0</td>\n",
       "      <td>2016-05-16</td>\n",
       "      <td>Monday</td>\n",
       "    </tr>\n",
       "    <tr>\n",
       "      <th>1934</th>\n",
       "      <td>2016-05-16</td>\n",
       "      <td>4</td>\n",
       "      <td>2016-05-17</td>\n",
       "      <td>Tuesday</td>\n",
       "    </tr>\n",
       "    <tr>\n",
       "      <th>1935</th>\n",
       "      <td>2016-05-17</td>\n",
       "      <td>0</td>\n",
       "      <td>2016-05-18</td>\n",
       "      <td>Wednesday</td>\n",
       "    </tr>\n",
       "    <tr>\n",
       "      <th>1936</th>\n",
       "      <td>2016-05-18</td>\n",
       "      <td>1</td>\n",
       "      <td>2016-05-19</td>\n",
       "      <td>Thursday</td>\n",
       "    </tr>\n",
       "    <tr>\n",
       "      <th>1937</th>\n",
       "      <td>2016-05-19</td>\n",
       "      <td>3</td>\n",
       "      <td>2016-05-20</td>\n",
       "      <td>Friday</td>\n",
       "    </tr>\n",
       "    <tr>\n",
       "      <th>1938</th>\n",
       "      <td>2016-05-20</td>\n",
       "      <td>0</td>\n",
       "      <td>2016-05-21</td>\n",
       "      <td>Saturday</td>\n",
       "    </tr>\n",
       "    <tr>\n",
       "      <th>1939</th>\n",
       "      <td>2016-05-21</td>\n",
       "      <td>2</td>\n",
       "      <td>2016-05-22</td>\n",
       "      <td>Sunday</td>\n",
       "    </tr>\n",
       "    <tr>\n",
       "      <th>1940</th>\n",
       "      <td>2016-05-22</td>\n",
       "      <td>6</td>\n",
       "      <td>2016-05-23</td>\n",
       "      <td>Monday</td>\n",
       "    </tr>\n",
       "  </tbody>\n",
       "</table>\n",
       "</div>"
      ],
      "text/plain": [
       "           date  HOBBIES_1_004_CA_1_evaluation        tmr    tmr_dow\n",
       "1931 2016-05-13                              1 2016-05-14   Saturday\n",
       "1932 2016-05-14                              1 2016-05-15     Sunday\n",
       "1933 2016-05-15                              0 2016-05-16     Monday\n",
       "1934 2016-05-16                              4 2016-05-17    Tuesday\n",
       "1935 2016-05-17                              0 2016-05-18  Wednesday\n",
       "1936 2016-05-18                              1 2016-05-19   Thursday\n",
       "1937 2016-05-19                              3 2016-05-20     Friday\n",
       "1938 2016-05-20                              0 2016-05-21   Saturday\n",
       "1939 2016-05-21                              2 2016-05-22     Sunday\n",
       "1940 2016-05-22                              6 2016-05-23     Monday"
      ]
     },
     "execution_count": 33,
     "metadata": {},
     "output_type": "execute_result"
    }
   ],
   "source": [
    "# add the day of week of yesterday as a new series\n",
    "ste_t = sales_train_evaluation_df[['id']+ d_cols].set_index('id').T\n",
    "ste_td = ste_t.merge(calendar_df[['date','d']].set_index('d'),\n",
    "           left_index = True, right_index=True, validate='1:1').set_index('date')\n",
    "ste_td = ste_td.reset_index()\n",
    "ste_td = ste_td.assign(date = pd.to_datetime(ste_td.date))\n",
    "ste_td = ste_td.assign(tmr = ste_td.date.shift(-1))\n",
    "ste_td.loc[ste_td.shape[0] - 1,'tmr'] = ste_td.loc[ste_td.shape[0] - 1,'date']  + pd.DateOffset(1)\n",
    "ste_td = ste_td.assign(tmr_dow = ste_td.tmr.dt.day_name().astype('category'))\n",
    "ste_td.tail(10)"
   ]
  },
  {
   "cell_type": "code",
   "execution_count": 35,
   "id": "721dc4e0",
   "metadata": {},
   "outputs": [
    {
     "name": "stdout",
     "output_type": "stream",
     "text": [
      "tmr_dow unique levels = 7\n",
      "tmr_dow\n",
      "Monday       278\n",
      "Sunday       278\n",
      "Friday       277\n",
      "Saturday     277\n",
      "Thursday     277\n",
      "Tuesday      277\n",
      "Wednesday    277\n",
      "Name: count, dtype: int64\n"
     ]
    }
   ],
   "source": [
    "unique_levels = len(set(ste_td['tmr_dow']))\n",
    "print('tmr_dow', 'unique levels =', unique_levels)\n",
    "print(ste_td['tmr_dow'].value_counts(dropna = False))\n",
    "dow_encoded = F.one_hot((torch.from_numpy(ste_td['tmr_dow'].cat.codes.values) % unique_levels).long(), num_classes = unique_levels)\n",
    "y = torch.from_numpy(ste_td['HOBBIES_1_004_CA_1_evaluation'].values).float()\n",
    "data = torch.cat([y.reshape(-1,1), dow_encoded], axis = 1)"
   ]
  },
  {
   "cell_type": "code",
   "execution_count": 36,
   "id": "bba36a0d",
   "metadata": {},
   "outputs": [],
   "source": [
    "# normalize to range from -1 to 1\n",
    "scaler = MinMaxScaler(feature_range=(-1, 1))\n",
    "ste_normalized = scaler.fit_transform(data)"
   ]
  },
  {
   "cell_type": "code",
   "execution_count": 38,
   "id": "1270328f",
   "metadata": {},
   "outputs": [],
   "source": [
    "class M5_Multivariate_Dataset(Dataset):\n",
    "    def __init__(self, df, seq_length):\n",
    "        self.df = df\n",
    "        self.seq_length = seq_length\n",
    "        self.total_length = len(df[:,0]) - seq_length \n",
    "    \n",
    "    def __len__(self):\n",
    "        return self.total_length\n",
    "    \n",
    "    def __getitem__(self, index):\n",
    "        if index < self.total_length:\n",
    "            sequence = self.df[index: index + self.seq_length,:]\n",
    "            target = self.df[index + self.seq_length,0]\n",
    "            return torch.tensor(sequence, dtype=torch.float32), \\\n",
    "                    torch.tensor(target, dtype=torch.float32)"
   ]
  },
  {
   "cell_type": "code",
   "execution_count": 37,
   "id": "92bfe153",
   "metadata": {},
   "outputs": [
    {
     "name": "stdout",
     "output_type": "stream",
     "text": [
      "(1717, 8) (196, 8) (28, 8)\n"
     ]
    }
   ],
   "source": [
    "# train / valid / test split\n",
    "\n",
    "tr_arr = ste_normalized[:1717,:]\n",
    "va_arr = ste_normalized[1717:1913,:]\n",
    "te_arr = ste_normalized[1913:,:]\n",
    "\n",
    "print(tr_arr.shape, va_arr.shape, te_arr.shape)"
   ]
  },
  {
   "cell_type": "code",
   "execution_count": 39,
   "id": "15128c57",
   "metadata": {},
   "outputs": [
    {
     "name": "stdout",
     "output_type": "stream",
     "text": [
      "53 6\n"
     ]
    }
   ],
   "source": [
    "BATCH_SIZE = 32\n",
    "SEQ_LENGTH = 28\n",
    "tr_ds = M5_Multivariate_Dataset(tr_arr, SEQ_LENGTH)\n",
    "va_ds = M5_Multivariate_Dataset(va_arr, SEQ_LENGTH)\n",
    "\n",
    "num_workers = multiprocessing.cpu_count()\n",
    "print(len(tr_dl), len(va_dl))"
   ]
  },
  {
   "cell_type": "code",
   "execution_count": 40,
   "id": "b6431564",
   "metadata": {},
   "outputs": [
    {
     "name": "stdout",
     "output_type": "stream",
     "text": [
      "Training Set:\n",
      "\n",
      "batch dimensions: torch.Size([32, 28, 8])\n",
      "label dimensions: torch.Size([32])\n",
      "tensor([-1.0000, -0.6000, -0.8667])\n",
      "\n",
      "Validation Set:\n",
      "batch dimensions: torch.Size([32, 28, 8])\n",
      "target dimensions: torch.Size([32])\n",
      "tensor([-1.0000, -1.0000, -0.4667])\n"
     ]
    }
   ],
   "source": [
    "tr_dl = DataLoader(tr_ds, batch_size=32, shuffle=True, num_workers=0)\n",
    "va_dl = DataLoader(va_ds, batch_size=32, shuffle=False, num_workers=0)\n",
    "# Checking the dataset\n",
    "print('Training Set:\\n')\n",
    "for history, target in tr_dl:  \n",
    "    print('batch dimensions:', history.size())\n",
    "    print('label dimensions:', target.size())\n",
    "    print(target[:3])\n",
    "    break\n",
    "    \n",
    "# Checking the dataset\n",
    "print('\\nValidation Set:')\n",
    "for history, target in va_dl:  \n",
    "    print('batch dimensions:', history.size())\n",
    "    print('target dimensions:', target.size())\n",
    "    print(target[:3])\n",
    "    break"
   ]
  },
  {
   "cell_type": "code",
   "execution_count": 30,
   "id": "ea9590c8",
   "metadata": {},
   "outputs": [],
   "source": [
    "class RNN(nn.Module):\n",
    "\n",
    "    def __init__(self, input_size, hidden_size, num_layers):\n",
    "        super().__init__()\n",
    "        \n",
    "        self.lstm = nn.RNN(input_size=input_size, hidden_size=hidden_size,\n",
    "                            num_layers=num_layers, batch_first=True)\n",
    "        \n",
    "        self.fc = nn.Linear(hidden_size, 1)\n",
    "\n",
    "    def forward(self, x):\n",
    "        # out: (batch_size, seq_length, hidden_size)\n",
    "        out, _ = self.rnn(x)\n",
    "        # take the out at the last time step\n",
    "        # out: (batch_size, hidden_size)\n",
    "        out = out[:, -1]\n",
    "        # pred: (batch_size, 1)\n",
    "        pred = self.fc(out)\n",
    "        # output: batch_size\n",
    "        return pred.squeeze()"
   ]
  },
  {
   "cell_type": "code",
   "execution_count": 41,
   "id": "86e94340",
   "metadata": {},
   "outputs": [],
   "source": [
    "num_epochs = 100\n",
    "learning_rate = 3e-4\n",
    "input_size = tr_arr.shape[1]\n",
    "hidden_size = 64\n",
    "num_layers = 1"
   ]
  },
  {
   "cell_type": "code",
   "execution_count": 42,
   "id": "964c8adf",
   "metadata": {},
   "outputs": [],
   "source": [
    "##### Init the Model #######################\n",
    "rnn = RNN(input_size, hidden_size, num_layers)\n",
    "rnn.to(device)\n",
    "\n",
    "##### Set Criterion Optimzer and scheduler ####################\n",
    "loss_fn = torch.nn.MSELoss().to(device)    # mean-squared error for regression\n",
    "optimizer = torch.optim.Adam(rnn.parameters(), lr=learning_rate, weight_decay=1e-6)"
   ]
  },
  {
   "cell_type": "code",
   "execution_count": 46,
   "id": "9754e001",
   "metadata": {},
   "outputs": [
    {
     "ename": "AttributeError",
     "evalue": "'RNN' object has no attribute 'rnn'",
     "output_type": "error",
     "traceback": [
      "\u001b[1;31m---------------------------------------------------------------------------\u001b[0m",
      "\u001b[1;31mAttributeError\u001b[0m                            Traceback (most recent call last)",
      "Input \u001b[1;32mIn [46]\u001b[0m, in \u001b[0;36m<cell line: 43>\u001b[1;34m()\u001b[0m\n\u001b[0;32m     36\u001b[0m             \u001b[38;5;28mprint\u001b[39m(\n\u001b[0;32m     37\u001b[0m                     \u001b[38;5;124mf\u001b[39m\u001b[38;5;124m\"\u001b[39m\u001b[38;5;124mEpoch \u001b[39m\u001b[38;5;132;01m{\u001b[39;00mepoch\u001b[38;5;132;01m:\u001b[39;00m\u001b[38;5;124m02d\u001b[39m\u001b[38;5;132;01m}\u001b[39;00m\u001b[38;5;124m/\u001b[39m\u001b[38;5;132;01m{\u001b[39;00mnum_epochs\u001b[38;5;132;01m:\u001b[39;00m\u001b[38;5;124m02d\u001b[39m\u001b[38;5;132;01m}\u001b[39;00m\u001b[38;5;124m \u001b[39m\u001b[38;5;130;01m\\t\u001b[39;00m\u001b[38;5;124m t=\u001b[39m\u001b[38;5;132;01m{\u001b[39;00melapsed_time\u001b[38;5;132;01m:\u001b[39;00m\u001b[38;5;124m.0f\u001b[39m\u001b[38;5;132;01m}\u001b[39;00m\u001b[38;5;124ms \u001b[39m\u001b[38;5;130;01m\\t\u001b[39;00m\u001b[38;5;124m\"\u001b[39m\n\u001b[0;32m     38\u001b[0m                     \u001b[38;5;124mf\u001b[39m\u001b[38;5;124m\"\u001b[39m\u001b[38;5;124mloss=\u001b[39m\u001b[38;5;132;01m{\u001b[39;00mavg_loss\u001b[38;5;132;01m:\u001b[39;00m\u001b[38;5;124m.3f\u001b[39m\u001b[38;5;132;01m}\u001b[39;00m\u001b[38;5;124m \u001b[39m\u001b[38;5;130;01m\\t\u001b[39;00m\u001b[38;5;124m\"\u001b[39m,\n\u001b[0;32m     39\u001b[0m                     \u001b[38;5;124mf\u001b[39m\u001b[38;5;124m\"\u001b[39m\u001b[38;5;124mval_loss=\u001b[39m\u001b[38;5;132;01m{\u001b[39;00mavg_val_loss\u001b[38;5;132;01m:\u001b[39;00m\u001b[38;5;124m.3f\u001b[39m\u001b[38;5;132;01m}\u001b[39;00m\u001b[38;5;124m\"\u001b[39m\n\u001b[0;32m     40\u001b[0m                 )\n\u001b[0;32m     41\u001b[0m     \u001b[38;5;28;01mreturn\u001b[39;00m loss_hist_train, loss_hist_valid\n\u001b[1;32m---> 43\u001b[0m history \u001b[38;5;241m=\u001b[39m \u001b[43mtrain_rnn\u001b[49m\u001b[43m(\u001b[49m\u001b[43mrnn\u001b[49m\u001b[43m,\u001b[49m\u001b[43m \u001b[49m\u001b[43mnum_epochs\u001b[49m\u001b[43m,\u001b[49m\u001b[43m \u001b[49m\u001b[43mtr_dl\u001b[49m\u001b[43m,\u001b[49m\u001b[43m \u001b[49m\u001b[43mva_dl\u001b[49m\u001b[43m)\u001b[49m\n",
      "Input \u001b[1;32mIn [46]\u001b[0m, in \u001b[0;36mtrain_rnn\u001b[1;34m(model, num_epochs, tr_dl, va_dl)\u001b[0m\n\u001b[0;32m      9\u001b[0m avg_loss \u001b[38;5;241m=\u001b[39m \u001b[38;5;241m0\u001b[39m\n\u001b[0;32m     10\u001b[0m \u001b[38;5;28;01mfor\u001b[39;00m i, (history, target) \u001b[38;5;129;01min\u001b[39;00m \u001b[38;5;28menumerate\u001b[39m(tr_dl):\n\u001b[0;32m     11\u001b[0m     \u001b[38;5;66;03m# forward\u001b[39;00m\n\u001b[1;32m---> 12\u001b[0m     outputs \u001b[38;5;241m=\u001b[39m \u001b[43mlstm\u001b[49m\u001b[43m(\u001b[49m\u001b[43mhistory\u001b[49m\u001b[38;5;241;43m.\u001b[39;49m\u001b[43mto\u001b[49m\u001b[43m(\u001b[49m\u001b[43mdevice\u001b[49m\u001b[43m)\u001b[49m\u001b[43m)\u001b[49m\n\u001b[0;32m     13\u001b[0m     loss \u001b[38;5;241m=\u001b[39m loss_fn(outputs, target\u001b[38;5;241m.\u001b[39mto(device))\n\u001b[0;32m     14\u001b[0m     \u001b[38;5;66;03m# backward\u001b[39;00m\n",
      "File \u001b[1;32mc:\\Users\\sanja\\anaconda3\\envs\\MachineLearning\\lib\\site-packages\\torch\\nn\\modules\\module.py:1532\u001b[0m, in \u001b[0;36mModule._wrapped_call_impl\u001b[1;34m(self, *args, **kwargs)\u001b[0m\n\u001b[0;32m   1530\u001b[0m     \u001b[38;5;28;01mreturn\u001b[39;00m \u001b[38;5;28mself\u001b[39m\u001b[38;5;241m.\u001b[39m_compiled_call_impl(\u001b[38;5;241m*\u001b[39margs, \u001b[38;5;241m*\u001b[39m\u001b[38;5;241m*\u001b[39mkwargs)  \u001b[38;5;66;03m# type: ignore[misc]\u001b[39;00m\n\u001b[0;32m   1531\u001b[0m \u001b[38;5;28;01melse\u001b[39;00m:\n\u001b[1;32m-> 1532\u001b[0m     \u001b[38;5;28;01mreturn\u001b[39;00m \u001b[38;5;28mself\u001b[39m\u001b[38;5;241m.\u001b[39m_call_impl(\u001b[38;5;241m*\u001b[39margs, \u001b[38;5;241m*\u001b[39m\u001b[38;5;241m*\u001b[39mkwargs)\n",
      "File \u001b[1;32mc:\\Users\\sanja\\anaconda3\\envs\\MachineLearning\\lib\\site-packages\\torch\\nn\\modules\\module.py:1541\u001b[0m, in \u001b[0;36mModule._call_impl\u001b[1;34m(self, *args, **kwargs)\u001b[0m\n\u001b[0;32m   1536\u001b[0m \u001b[38;5;66;03m# If we don't have any hooks, we want to skip the rest of the logic in\u001b[39;00m\n\u001b[0;32m   1537\u001b[0m \u001b[38;5;66;03m# this function, and just call forward.\u001b[39;00m\n\u001b[0;32m   1538\u001b[0m \u001b[38;5;28;01mif\u001b[39;00m \u001b[38;5;129;01mnot\u001b[39;00m (\u001b[38;5;28mself\u001b[39m\u001b[38;5;241m.\u001b[39m_backward_hooks \u001b[38;5;129;01mor\u001b[39;00m \u001b[38;5;28mself\u001b[39m\u001b[38;5;241m.\u001b[39m_backward_pre_hooks \u001b[38;5;129;01mor\u001b[39;00m \u001b[38;5;28mself\u001b[39m\u001b[38;5;241m.\u001b[39m_forward_hooks \u001b[38;5;129;01mor\u001b[39;00m \u001b[38;5;28mself\u001b[39m\u001b[38;5;241m.\u001b[39m_forward_pre_hooks\n\u001b[0;32m   1539\u001b[0m         \u001b[38;5;129;01mor\u001b[39;00m _global_backward_pre_hooks \u001b[38;5;129;01mor\u001b[39;00m _global_backward_hooks\n\u001b[0;32m   1540\u001b[0m         \u001b[38;5;129;01mor\u001b[39;00m _global_forward_hooks \u001b[38;5;129;01mor\u001b[39;00m _global_forward_pre_hooks):\n\u001b[1;32m-> 1541\u001b[0m     \u001b[38;5;28;01mreturn\u001b[39;00m forward_call(\u001b[38;5;241m*\u001b[39margs, \u001b[38;5;241m*\u001b[39m\u001b[38;5;241m*\u001b[39mkwargs)\n\u001b[0;32m   1543\u001b[0m \u001b[38;5;28;01mtry\u001b[39;00m:\n\u001b[0;32m   1544\u001b[0m     result \u001b[38;5;241m=\u001b[39m \u001b[38;5;28;01mNone\u001b[39;00m\n",
      "Input \u001b[1;32mIn [30]\u001b[0m, in \u001b[0;36mRNN.forward\u001b[1;34m(self, x)\u001b[0m\n\u001b[0;32m     11\u001b[0m \u001b[38;5;28;01mdef\u001b[39;00m \u001b[38;5;21mforward\u001b[39m(\u001b[38;5;28mself\u001b[39m, x):\n\u001b[0;32m     12\u001b[0m     \u001b[38;5;66;03m# out: (batch_size, seq_length, hidden_size)\u001b[39;00m\n\u001b[1;32m---> 13\u001b[0m     out, _ \u001b[38;5;241m=\u001b[39m \u001b[38;5;28;43mself\u001b[39;49m\u001b[38;5;241;43m.\u001b[39;49m\u001b[43mrnn\u001b[49m(x)\n\u001b[0;32m     14\u001b[0m     \u001b[38;5;66;03m# take the out at the last time step\u001b[39;00m\n\u001b[0;32m     15\u001b[0m     \u001b[38;5;66;03m# out: (batch_size, hidden_size)\u001b[39;00m\n\u001b[0;32m     16\u001b[0m     out \u001b[38;5;241m=\u001b[39m out[:, \u001b[38;5;241m-\u001b[39m\u001b[38;5;241m1\u001b[39m]\n",
      "File \u001b[1;32mc:\\Users\\sanja\\anaconda3\\envs\\MachineLearning\\lib\\site-packages\\torch\\nn\\modules\\module.py:1709\u001b[0m, in \u001b[0;36mModule.__getattr__\u001b[1;34m(self, name)\u001b[0m\n\u001b[0;32m   1707\u001b[0m     \u001b[38;5;28;01mif\u001b[39;00m name \u001b[38;5;129;01min\u001b[39;00m modules:\n\u001b[0;32m   1708\u001b[0m         \u001b[38;5;28;01mreturn\u001b[39;00m modules[name]\n\u001b[1;32m-> 1709\u001b[0m \u001b[38;5;28;01mraise\u001b[39;00m \u001b[38;5;167;01mAttributeError\u001b[39;00m(\u001b[38;5;124mf\u001b[39m\u001b[38;5;124m\"\u001b[39m\u001b[38;5;124m'\u001b[39m\u001b[38;5;132;01m{\u001b[39;00m\u001b[38;5;28mtype\u001b[39m(\u001b[38;5;28mself\u001b[39m)\u001b[38;5;241m.\u001b[39m\u001b[38;5;18m__name__\u001b[39m\u001b[38;5;132;01m}\u001b[39;00m\u001b[38;5;124m'\u001b[39m\u001b[38;5;124m object has no attribute \u001b[39m\u001b[38;5;124m'\u001b[39m\u001b[38;5;132;01m{\u001b[39;00mname\u001b[38;5;132;01m}\u001b[39;00m\u001b[38;5;124m'\u001b[39m\u001b[38;5;124m\"\u001b[39m)\n",
      "\u001b[1;31mAttributeError\u001b[0m: 'RNN' object has no attribute 'rnn'"
     ]
    }
   ],
   "source": [
    "def train_rnn(model, num_epochs, tr_dl, va_dl):\n",
    "    loss_hist_train = [0] * num_epochs\n",
    "    loss_hist_valid = [0] * num_epochs\n",
    "    \n",
    "    model.to(device)\n",
    "    start_time = time.time()\n",
    "    for epoch in range(num_epochs): \n",
    "        rnn.train()\n",
    "        avg_loss = 0\n",
    "        for i, (history, target) in enumerate(tr_dl):\n",
    "            # forward\n",
    "            outputs = lstm(history.to(device))\n",
    "            loss = loss_fn(outputs, target.to(device))\n",
    "            # backward\n",
    "            optimizer.zero_grad()\n",
    "            loss.backward()\n",
    "            # update\n",
    "            optimizer.step()\n",
    "            # log\n",
    "            avg_loss += loss.item() / len(tr_dl)\n",
    "\n",
    "        rnn.eval()\n",
    "        avg_val_loss = 0\n",
    "        with torch.no_grad():\n",
    "            for history, target in va_dl:\n",
    "                outputs = rnn(history.to(device))\n",
    "                loss = loss_fn(outputs, target.to(device))\n",
    "                avg_val_loss += loss.item() / len(va_dl)\n",
    "\n",
    "        elapsed_time = time.time() - start_time\n",
    "        \n",
    "        loss_hist_train[epoch] = avg_loss\n",
    "        loss_hist_valid[epoch] = avg_val_loss\n",
    "        \n",
    "        if epoch % 10 == 0:\n",
    "            print(\n",
    "                    f\"Epoch {epoch:02d}/{num_epochs:02d} \\t t={elapsed_time:.0f}s \\t\"\n",
    "                    f\"loss={avg_loss:.3f} \\t\",\n",
    "                    f\"val_loss={avg_val_loss:.3f}\"\n",
    "                )\n",
    "    return loss_hist_train, loss_hist_valid\n",
    "\n",
    "history = train_rnn(rnn, num_epochs, tr_dl, va_dl)"
   ]
  },
  {
   "cell_type": "code",
   "execution_count": 44,
   "id": "3f3a59d5",
   "metadata": {},
   "outputs": [
    {
     "ename": "NameError",
     "evalue": "name 'train' is not defined",
     "output_type": "error",
     "traceback": [
      "\u001b[1;31m---------------------------------------------------------------------------\u001b[0m",
      "\u001b[1;31mNameError\u001b[0m                                 Traceback (most recent call last)",
      "Input \u001b[1;32mIn [44]\u001b[0m, in \u001b[0;36m<cell line: 1>\u001b[1;34m()\u001b[0m\n\u001b[1;32m----> 1\u001b[0m history \u001b[38;5;241m=\u001b[39m \u001b[43mtrain\u001b[49m(rnn, num_epochs, tr_dl, va_dl)\n",
      "\u001b[1;31mNameError\u001b[0m: name 'train' is not defined"
     ]
    }
   ],
   "source": [
    "history = train(rnn, num_epochs, tr_dl, va_dl)"
   ]
  }
 ],
 "metadata": {
  "kernelspec": {
   "display_name": "Python 3 (ipykernel)",
   "language": "python",
   "name": "python3"
  },
  "language_info": {
   "codemirror_mode": {
    "name": "ipython",
    "version": 3
   },
   "file_extension": ".py",
   "mimetype": "text/x-python",
   "name": "python",
   "nbconvert_exporter": "python",
   "pygments_lexer": "ipython3",
   "version": "3.10.4"
  },
  "papermill": {
   "default_parameters": {},
   "duration": 40.833165,
   "end_time": "2023-10-06T15:53:18.566668",
   "environment_variables": {},
   "exception": null,
   "input_path": "__notebook__.ipynb",
   "output_path": "__notebook__.ipynb",
   "parameters": {},
   "start_time": "2023-10-06T15:52:37.733503",
   "version": "2.4.0"
  }
 },
 "nbformat": 4,
 "nbformat_minor": 5
}
